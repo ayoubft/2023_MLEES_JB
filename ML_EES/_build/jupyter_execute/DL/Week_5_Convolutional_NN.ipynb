{
 "cells": [
  {
   "cell_type": "markdown",
   "metadata": {
    "colab_type": "text",
    "id": "view-in-github"
   },
   "source": [
    "<a href=\"https://colab.research.google.com/github/tbeucler/2023_MLEES_JB/blob/main/ML_EES/DL/Week_5_Convolutional_NN.ipynb\" target=\"_parent\"><img src=\"https://colab.research.google.com/assets/colab-badge.svg\" alt=\"Open In Colab\"/></a>"
   ]
  },
  {
   "cell_type": "markdown",
   "metadata": {
    "id": "IY2vdUC9L0_F"
   },
   "source": [
    "# Convolutional Neural Networks and Remote Sensing"
   ]
  },
  {
   "cell_type": "markdown",
   "metadata": {
    "id": "-Y_3xDf0ixzV"
   },
   "source": [
    "In this chapter, our learning objectives are to:\n",
    "\n",
    "1.  Implement a convolutional neural network (CNN)\n",
    "2.  Understand how CNNs can be applied for image classification  \n",
    "3.  Understand how CNNs can be used for remote sensing applications, such as land classification"
   ]
  }
 ],
 "metadata": {
  "accelerator": "GPU",
  "colab": {
   "include_colab_link": true,
   "provenance": [],
   "toc_visible": true
  },
  "kernelspec": {
   "display_name": "Python 3",
   "name": "python3"
  },
  "language_info": {
   "codemirror_mode": {
    "name": "ipython",
    "version": 3
   },
   "file_extension": ".py",
   "mimetype": "text/x-python",
   "name": "python",
   "nbconvert_exporter": "python",
   "pygments_lexer": "ipython3",
   "version": "3.9.16"
  }
 },
 "nbformat": 4,
 "nbformat_minor": 0
}