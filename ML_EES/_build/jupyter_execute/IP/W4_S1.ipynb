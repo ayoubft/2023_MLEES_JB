{
 "cells": [
  {
   "cell_type": "markdown",
   "metadata": {
    "colab_type": "text",
    "id": "view-in-github"
   },
   "source": [
    "<a href=\"https://colab.research.google.com/github/tbeucler/2022_Intro_Python/blob/main/Exercises/W4_S1.ipynb\" target=\"_parent\"><img src=\"https://colab.research.google.com/assets/colab-badge.svg\" alt=\"Open In Colab\"/></a>"
   ]
  },
  {
   "cell_type": "markdown",
   "metadata": {
    "id": "X-Vw_8lxnRiO"
   },
   "source": [
    "### **Exercise: Multivariate Linear Regression**\n",
    "What if our dataset has multiple dimensions and we want to find equations that looks something like this?\n",
    "$$\n",
    "y = w_1 x_1 + w_2 x_2 + w_3 x_3 + ... + b\n",
    "$$\n",
    "\n",
    "Here we show how we would do it with scikit-learn to find a linear equation that describes the Kaggle [Advertising dataset](https://www.kaggle.com/datasets/bumba5341/advertisingcsv?resource=download)"
   ]
  },
  {
   "cell_type": "markdown",
   "metadata": {
    "id": "ISJd4ihEnVTl"
   },
   "source": [
    "**Q1: Use pandas to import the advertising dataset**"
   ]
  },
  {
   "cell_type": "code",
   "execution_count": 1,
   "metadata": {
    "id": "wu4ncsMYnStF"
   },
   "outputs": [
    {
     "ename": "AttributeError",
     "evalue": "module 'pandas' has no attribute '__'",
     "output_type": "error",
     "traceback": [
      "\u001b[1;31m---------------------------------------------------------------------------\u001b[0m",
      "\u001b[1;31mAttributeError\u001b[0m                            Traceback (most recent call last)",
      "Cell \u001b[1;32mIn[1], line 4\u001b[0m\n\u001b[0;32m      1\u001b[0m \u001b[38;5;28;01mimport\u001b[39;00m \u001b[38;5;21;01mpandas\u001b[39;00m\n\u001b[0;32m      3\u001b[0m \u001b[38;5;66;03m# Q1a: Use pandas to import the dataset\u001b[39;00m\n\u001b[1;32m----> 4\u001b[0m __ \u001b[38;5;241m=\u001b[39m \u001b[43mpandas\u001b[49m\u001b[38;5;241;43m.\u001b[39;49m\u001b[43m__\u001b[49m(_,_)\n\u001b[0;32m      5\u001b[0m \u001b[38;5;66;03m# Q1b: Display the first rows of the data with pandas\u001b[39;00m\n\u001b[0;32m      6\u001b[0m __\u001b[38;5;241m.\u001b[39m__()\n",
      "\u001b[1;31mAttributeError\u001b[0m: module 'pandas' has no attribute '__'"
     ]
    }
   ],
   "source": [
    "import pandas\n",
    "\n",
    "# Q1a: Use pandas to import the dataset\n",
    "__ = pandas.__(_,_)\n",
    "# Q1b: Display the first rows of the data with pandas\n",
    "__.__()"
   ]
  },
  {
   "cell_type": "code",
   "execution_count": null,
   "metadata": {
    "id": "4PK7zc0QnX_i"
   },
   "outputs": [],
   "source": [
    "#@title Answers\n",
    "# Import a dataset of advertising spends\n",
    "advert = pandas.read_csv('myadvertising.csv', index_col=0)\n",
    "\n",
    "# Display the first five rows of the data\n",
    "advert.head()"
   ]
  },
  {
   "cell_type": "markdown",
   "metadata": {
    "id": "kFlc8eGznatT"
   },
   "source": [
    "**Q2: Try to use scikit-learn linear regression model to predict \"Sales\" from \n",
    "three columns \"TV\", \"Radio\", \"Newspaper\"**\n",
    "\n",
    "This model will basically tell us how sales would change if we put resources to advertise products in three different medias."
   ]
  },
  {
   "cell_type": "code",
   "execution_count": null,
   "metadata": {
    "id": "e5D0eDP-nfwQ"
   },
   "outputs": [],
   "source": [
    "from sklearn.____ import ____\n",
    "\n",
    "# Construct Input / Output matrices\n",
    "Xall = __[[_,_,_]].values\n",
    "y = _[].values\n",
    "linreg = ___\n",
    "linreg.__(_,_)"
   ]
  },
  {
   "cell_type": "code",
   "execution_count": null,
   "metadata": {
    "id": "SEJO6E_wni_J"
   },
   "outputs": [],
   "source": [
    "#@title Answer\n",
    "from sklearn.linear_model import LinearRegression\n",
    "\n",
    "Xall = advert[['TV', 'Radio', 'Newspaper']].values\n",
    "y    = advert['Sales'].values\n",
    "\n",
    "linreg = LinearRegression(); linreg.fit(Xall, y)"
   ]
  },
  {
   "cell_type": "markdown",
   "metadata": {
    "id": "7HVwwqUNniQg"
   },
   "source": [
    "**Q3: Print out the linear equation coefficients and intercept**\n"
   ]
  },
  {
   "cell_type": "code",
   "execution_count": null,
   "metadata": {
    "id": "AeRFXcB0noMq"
   },
   "outputs": [],
   "source": [
    "cfs = [round(x,_) for x in linreg.____]\n",
    "print(f'Coefficients {cfs}, Intercept {linreg.____:5.2f}' )"
   ]
  },
  {
   "cell_type": "code",
   "execution_count": null,
   "metadata": {
    "id": "EkKTqUiynzsL"
   },
   "outputs": [],
   "source": [
    "#@title Answer\n",
    "cfs = [round(x,4) for x in linreg.coef_]\n",
    "print(f'Coefficients {cfs}, Intercept {linreg.intercept_:5.2f}' )"
   ]
  }
 ],
 "metadata": {
  "colab": {
   "include_colab_link": true,
   "name": "W4_S1.ipynb",
   "provenance": []
  },
  "kernelspec": {
   "display_name": "Python 3",
   "name": "python3"
  },
  "language_info": {
   "codemirror_mode": {
    "name": "ipython",
    "version": 3
   },
   "file_extension": ".py",
   "mimetype": "text/x-python",
   "name": "python",
   "nbconvert_exporter": "python",
   "pygments_lexer": "ipython3",
   "version": "3.9.16"
  }
 },
 "nbformat": 4,
 "nbformat_minor": 0
}