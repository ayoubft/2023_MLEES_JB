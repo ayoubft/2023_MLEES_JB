{
  "nbformat": 4,
  "nbformat_minor": 0,
  "metadata": {
    "colab": {
      "name": "W4_S1.ipynb",
      "provenance": [],
      "include_colab_link": true
    },
    "kernelspec": {
      "name": "python3",
      "display_name": "Python 3"
    },
    "language_info": {
      "name": "python"
    }
  },
  "cells": [
    {
      "cell_type": "markdown",
      "metadata": {
        "id": "view-in-github",
        "colab_type": "text"
      },
      "source": [
        "<a href=\"https://colab.research.google.com/github/tbeucler/2022_Intro_Python/blob/main/Exercises/W4_S1.ipynb\" target=\"_parent\"><img src=\"https://colab.research.google.com/assets/colab-badge.svg\" alt=\"Open In Colab\"/></a>"
      ]
    },
    {
      "cell_type": "markdown",
      "source": [
        "### **Exercise: Multivariate Linear Regression**\n",
        "What if our dataset has multiple dimensions and we want to find equations that looks something like this?\n",
        "$$\n",
        "y = w_1 x_1 + w_2 x_2 + w_3 x_3 + ... + b\n",
        "$$\n",
        "\n",
        "Here we show how we would do it with scikit-learn to find a linear equation that describes the Kaggle [Advertising dataset](https://www.kaggle.com/datasets/bumba5341/advertisingcsv?resource=download)"
      ],
      "metadata": {
        "id": "X-Vw_8lxnRiO"
      }
    },
    {
      "cell_type": "markdown",
      "source": [
        "**Q1: Use pandas to import the advertising dataset**"
      ],
      "metadata": {
        "id": "ISJd4ihEnVTl"
      }
    },
    {
      "cell_type": "code",
      "source": [
        "import pandas\n",
        "\n",
        "# Q1a: Use pandas to import the dataset\n",
        "__ = pandas.__(_,_)\n",
        "# Q1b: Display the first rows of the data with pandas\n",
        "__.__()"
      ],
      "metadata": {
        "id": "wu4ncsMYnStF"
      },
      "execution_count": null,
      "outputs": []
    },
    {
      "cell_type": "code",
      "source": [
        "#@title Answers\n",
        "# Import a dataset of advertising spends\n",
        "advert = pandas.read_csv('myadvertising.csv', index_col=0)\n",
        "\n",
        "# Display the first five rows of the data\n",
        "advert.head()"
      ],
      "metadata": {
        "id": "4PK7zc0QnX_i"
      },
      "execution_count": null,
      "outputs": []
    },
    {
      "cell_type": "markdown",
      "source": [
        "**Q2: Try to use scikit-learn linear regression model to predict \"Sales\" from \n",
        "three columns \"TV\", \"Radio\", \"Newspaper\"**\n",
        "\n",
        "This model will basically tell us how sales would change if we put resources to advertise products in three different medias."
      ],
      "metadata": {
        "id": "kFlc8eGznatT"
      }
    },
    {
      "cell_type": "code",
      "source": [
        "from sklearn.____ import ____\n",
        "\n",
        "# Construct Input / Output matrices\n",
        "Xall = __[[_,_,_]].values\n",
        "y = _[].values\n",
        "linreg = ___\n",
        "linreg.__(_,_)"
      ],
      "metadata": {
        "id": "e5D0eDP-nfwQ"
      },
      "execution_count": null,
      "outputs": []
    },
    {
      "cell_type": "code",
      "source": [
        "#@title Answer\n",
        "from sklearn.linear_model import LinearRegression\n",
        "\n",
        "Xall = advert[['TV', 'Radio', 'Newspaper']].values\n",
        "y    = advert['Sales'].values\n",
        "\n",
        "linreg = LinearRegression(); linreg.fit(Xall, y)"
      ],
      "metadata": {
        "id": "SEJO6E_wni_J"
      },
      "execution_count": null,
      "outputs": []
    },
    {
      "cell_type": "markdown",
      "source": [
        "**Q3: Print out the linear equation coefficients and intercept**\n"
      ],
      "metadata": {
        "id": "7HVwwqUNniQg"
      }
    },
    {
      "cell_type": "code",
      "source": [
        "cfs = [round(x,_) for x in linreg.____]\n",
        "print(f'Coefficients {cfs}, Intercept {linreg.____:5.2f}' )"
      ],
      "metadata": {
        "id": "AeRFXcB0noMq"
      },
      "execution_count": null,
      "outputs": []
    },
    {
      "cell_type": "code",
      "source": [
        "#@title Answer\n",
        "cfs = [round(x,4) for x in linreg.coef_]\n",
        "print(f'Coefficients {cfs}, Intercept {linreg.intercept_:5.2f}' )"
      ],
      "metadata": {
        "id": "EkKTqUiynzsL"
      },
      "execution_count": null,
      "outputs": []
    }
  ]
}